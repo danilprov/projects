{
 "cells": [
  {
   "cell_type": "code",
   "execution_count": 2,
   "metadata": {},
   "outputs": [
    {
     "ename": "ImportError",
     "evalue": "No module named daily",
     "output_type": "error",
     "traceback": [
      "\u001b[1;31m---------------------------------------------------------------------------\u001b[0m",
      "\u001b[1;31mImportError\u001b[0m                               Traceback (most recent call last)",
      "\u001b[1;32m<ipython-input-2-f949d31b3d68>\u001b[0m in \u001b[0;36m<module>\u001b[1;34m()\u001b[0m\n\u001b[0;32m      1\u001b[0m \u001b[0mget_ipython\u001b[0m\u001b[1;33m(\u001b[0m\u001b[1;33m)\u001b[0m\u001b[1;33m.\u001b[0m\u001b[0mmagic\u001b[0m\u001b[1;33m(\u001b[0m\u001b[1;34mu'matplotlib inline'\u001b[0m\u001b[1;33m)\u001b[0m\u001b[1;33m\u001b[0m\u001b[0m\n\u001b[0;32m      2\u001b[0m \u001b[1;32mimport\u001b[0m \u001b[0mdatetime\u001b[0m\u001b[1;33m\u001b[0m\u001b[0m\n\u001b[1;32m----> 3\u001b[1;33m \u001b[1;32mimport\u001b[0m \u001b[0mdaily\u001b[0m\u001b[1;33m\u001b[0m\u001b[0m\n\u001b[0m\u001b[0;32m      4\u001b[0m \u001b[1;32mimport\u001b[0m \u001b[0mpandas\u001b[0m \u001b[1;32mas\u001b[0m \u001b[0mpd\u001b[0m\u001b[1;33m\u001b[0m\u001b[0m\n\u001b[0;32m      5\u001b[0m \u001b[1;32mimport\u001b[0m \u001b[0mnumpy\u001b[0m \u001b[1;32mas\u001b[0m \u001b[0mnp\u001b[0m\u001b[1;33m\u001b[0m\u001b[0m\n",
      "\u001b[1;31mImportError\u001b[0m: No module named daily"
     ]
    }
   ],
   "source": [
    "%matplotlib inline\n",
    "import datetime \n",
    "import daily\n",
    "import pandas as pd\n",
    "import numpy as np\n",
    "from scipy.stats import norm\n",
    "from pandas import Series\n",
    "from matplotlib import pyplot\n",
    "import matplotlib.pyplot as plt \n",
    "import texttable as tt\n",
    "import scipy.stats\n",
    "tab = tt.Texttable()\n",
    "headings = ['Stock', 'mean returns', 'VaR', 'Vol90', 'Vol_annual']\n",
    "my_list = [\"AAPL\", \"GOOGL\", \"MSFT\", \"IBM\", \"INTC\"]\n",
    "mean_returns = []\n",
    "VaR = []\n",
    "Vol90 = []\n",
    "Vol_annual = []"
   ]
  },
  {
   "cell_type": "code",
   "execution_count": null,
   "metadata": {},
   "outputs": [],
   "source": [
    "for i in range(len(my_list)):\n",
    "    start = datetime.datetime(2011,1,1) \n",
    "    end = datetime.datetime(2016,12,31) \n",
    "    ticker = my_list[i]\n",
    "    print('alyzing ticker: 'ticker)\n",
    "    ydr=daily.YahooDailyReader(ticker,start,end)\n",
    "    f = ydr.read()\n",
    "    f = f.iloc[::-1]\n",
    "    plt.plot(f['close'].values) \n",
    "    plt.title(my_list[i] + 'Closing Prices') \n",
    "    plt.show()\n",
    "    \n",
    "    series = Series(f.close)\n",
    "    #Compute returns\n",
    "    tmp = (series - series.shift(1))/series.shift(1)\n",
    "    #Compute rolling window returns\n",
    "    rolling = pd.rolling_apply(tmp, 252, lambda x: np.prod(1 + x) - 1)\n",
    "    # plot rolling window and returns dataset\n",
    "    rolling.plot(color='red', label = 'rolling window')\n",
    "    tmp.plot(label = 'returns')\n",
    "    pyplot.legend()\n",
    "    pyplot.show()\n",
    "    # compute VaR\n",
    "    rolling.sort()\n",
    "    rolling_mean = np.mean(rolling)\n",
    "    mean_returns.append(rolling_mean)\n",
    "    VaR.append(-rolling[round(np.sqrt(252*5) * norm.ppf(0.95, loc = np.mean(rolling), scale = np.std(rolling)), 0)])\n",
    "    # Compute the logarithmic returns using the Closing price \n",
    "    f['log_ret'] = np.log(f.close / f.close.shift(1))\n",
    "    # Compute Volatility using the pandas rolling standard deviation function\n",
    "    f['Volatility'] = pd.rolling_std(f.log_ret, window=90) * np.sqrt(252/4)\n",
    "    f['Volatility_annual'] = f.Volatility* np.sqrt(4)\n",
    "    Vol90.append(np.mean(f.Volatility))\n",
    "    Vol_annual.append(np.mean(f.Volatility_annual))\n",
    "    # Plot the Volatility\n",
    "    f[['Volatility', 'Volatility_annual']].plot(subplots=True, color='blue',figsize=(8, 6))\n",
    "    plt.show()"
   ]
  },
  {
   "cell_type": "markdown",
   "metadata": {},
   "source": [
    "Таблица результатов средних параметров для рассматриваемых акций."
   ]
  },
  {
   "cell_type": "code",
   "execution_count": null,
   "metadata": {
    "scrolled": true
   },
   "outputs": [],
   "source": [
    "tab.header(headings)\n",
    "for row in zip(my_list,mean_returns,VaR,Vol90,Vol_annual):\n",
    "    tab.add_row(row)\n",
    "\n",
    "s = tab.draw()\n",
    "print (s)"
   ]
  },
  {
   "cell_type": "code",
   "execution_count": null,
   "metadata": {},
   "outputs": [],
   "source": [
    "#3\n",
    "start = datetime.datetime(2011,1,1) \n",
    "end = datetime.datetime(2016,12,31) \n",
    "ticker = \"MSFT\"\n",
    "print(ticker)\n",
    "ydr=daily.YahooDailyReader(ticker,start,end)\n",
    "f = ydr.read()\n",
    "f = f.iloc[::-1]\n",
    "plt.plot(f['close'].values) \n",
    "plt.title('MSFT Closing Prices') \n",
    "plt.show()\n",
    "series = Series(f.close)\n",
    "f['log_ret'] = np.log(f.close / f.close.shift(1))\n",
    "f['Volatility'] = pd.rolling_std(f.log_ret, window=90) * np.sqrt(252/4)\n",
    "#compute expected price\n",
    "expected_price = f.close.tail(1)*np.exp((0.05+np.std(f.close)/2)*0.5)\n",
    "#compute confidense interval (1st)\n",
    "CI_R1 = f.close.tail(1)*np.exp((0.05*np.std(f.close)/2)*0.5)+0.39*np.std(f.close)*np.sqrt(0.5)\n",
    "prob_1 = (1 - scipy.stats.norm(0, 1).cdf(0.39))/2\n",
    "print(prob_1)\n",
    "#compute confidense interval (2st)\n",
    "CI_R2 = f.close.tail(1)*np.exp((0.009773*np.std(f.close)/2)*0.5)+1.55*np.std(f.close)*np.sqrt(0.5)\n",
    "prob_2 = (1- scipy.stats.norm(0, 1).cdf(1.55))/2\n",
    "print(prob_2)"
   ]
  },
  {
   "cell_type": "code",
   "execution_count": null,
   "metadata": {
    "scrolled": true
   },
   "outputs": [],
   "source": []
  },
  {
   "cell_type": "markdown",
   "metadata": {},
   "source": [
    "prob_1 и prob_2 вероятности роста акции компании Майкрософт не менее, чем на 20%, расчитанные при разных средних доходностях: prob_1 при значение равным 0.05, prob_2 при равном ставке LIBOR 3M на 31.12.2016 (0.009773)."
   ]
  }
 ],
 "metadata": {
  "kernelspec": {
   "display_name": "Python 2",
   "language": "python",
   "name": "python2"
  },
  "language_info": {
   "codemirror_mode": {
    "name": "ipython",
    "version": 2
   },
   "file_extension": ".py",
   "mimetype": "text/x-python",
   "name": "python",
   "nbconvert_exporter": "python",
   "pygments_lexer": "ipython2",
   "version": "2.7.10"
  }
 },
 "nbformat": 4,
 "nbformat_minor": 2
}
