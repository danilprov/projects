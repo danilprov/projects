{
 "cells": [
  {
   "cell_type": "markdown",
   "metadata": {},
   "source": [
    "The task of the following notebook is to predict a transaction price of residential property in Singapore, based on its parameters, such as Location, Area (sqm), etc."
   ]
  },
  {
   "cell_type": "code",
   "execution_count": 1,
   "metadata": {
    "collapsed": true
   },
   "outputs": [],
   "source": [
    "%matplotlib inline\n",
    "\n",
    "import pandas as pd\n",
    "import numpy as np\n",
    "import matplotlib.pyplot as plt\n",
    "\n",
    "from sklearn.linear_model import LinearRegression\n",
    "from sklearn.preprocessing import LabelEncoder"
   ]
  },
  {
   "cell_type": "code",
   "execution_count": 2,
   "metadata": {
    "collapsed": false
   },
   "outputs": [
    {
     "name": "stdout",
     "output_type": "stream",
     "text": [
      "Train data shape: (3147, 12), test data shape: (371, 12)\n"
     ]
    }
   ],
   "source": [
    "# load train data\n",
    "train_raw = pd.read_csv('residential_transactions_bishan_train.csv', index_col='Sale Date', parse_dates=True)\n",
    "test_raw = pd.read_csv('residential_transactions_bishan_test.csv', index_col='Sale Date', parse_dates=True)\n",
    "print 'Train data shape: {0}, test data shape: {1}'.format(train_raw.shape, test_raw.shape)"
   ]
  },
  {
   "cell_type": "markdown",
   "metadata": {},
   "source": [
    "The training set `residential_transactions_bishan_train.csv` contains committed transactions of residential properties in Singapore (from 2005). Test set `residential_transactions_bishan_test.csv` is a subsample from that period."
   ]
  },
  {
   "cell_type": "code",
   "execution_count": 3,
   "metadata": {
    "collapsed": false
   },
   "outputs": [
    {
     "data": {
      "text/html": [
       "<div>\n",
       "<table border=\"1\" class=\"dataframe\">\n",
       "  <thead>\n",
       "    <tr style=\"text-align: right;\">\n",
       "      <th></th>\n",
       "      <th>Project Name</th>\n",
       "      <th>Address</th>\n",
       "      <th>Area (sqm)</th>\n",
       "      <th>Type of Area</th>\n",
       "      <th>Transacted Price ($)</th>\n",
       "      <th>Unit Price, psm</th>\n",
       "      <th>Unit Price, psf</th>\n",
       "      <th>Property Type</th>\n",
       "      <th>Tenure</th>\n",
       "      <th>Completion Date</th>\n",
       "      <th>Type of Sale</th>\n",
       "      <th>Postal Code</th>\n",
       "    </tr>\n",
       "    <tr>\n",
       "      <th>Sale Date</th>\n",
       "      <th></th>\n",
       "      <th></th>\n",
       "      <th></th>\n",
       "      <th></th>\n",
       "      <th></th>\n",
       "      <th></th>\n",
       "      <th></th>\n",
       "      <th></th>\n",
       "      <th></th>\n",
       "      <th></th>\n",
       "      <th></th>\n",
       "      <th></th>\n",
       "    </tr>\n",
       "  </thead>\n",
       "  <tbody>\n",
       "    <tr>\n",
       "      <th>2011-08-23 00:00:00</th>\n",
       "      <td>THOMSON GRAND</td>\n",
       "      <td>11 Sin Ming Walk  #05-01</td>\n",
       "      <td>88</td>\n",
       "      <td>Strata</td>\n",
       "      <td>1284408</td>\n",
       "      <td>14596</td>\n",
       "      <td>1356</td>\n",
       "      <td>Condominium</td>\n",
       "      <td>99 Yrs From 08/02/2010</td>\n",
       "      <td>Uncompleted</td>\n",
       "      <td>New Sale</td>\n",
       "      <td>575579</td>\n",
       "    </tr>\n",
       "    <tr>\n",
       "      <th>2008-07-16 00:00:00</th>\n",
       "      <td>CLOVER BY THE PARK</td>\n",
       "      <td>6 Bishan Street 25  #37-14</td>\n",
       "      <td>119</td>\n",
       "      <td>Strata</td>\n",
       "      <td>1091000</td>\n",
       "      <td>9168</td>\n",
       "      <td>852</td>\n",
       "      <td>Condominium</td>\n",
       "      <td>99 Yrs From 10/09/2007</td>\n",
       "      <td>Uncompleted</td>\n",
       "      <td>New Sale</td>\n",
       "      <td>573975</td>\n",
       "    </tr>\n",
       "    <tr>\n",
       "      <th>2005-08-27 00:00:00</th>\n",
       "      <td>THE GARDENS AT BISHAN</td>\n",
       "      <td>7 Sin Ming Walk  #15-18</td>\n",
       "      <td>112</td>\n",
       "      <td>Strata</td>\n",
       "      <td>636000</td>\n",
       "      <td>5679</td>\n",
       "      <td>528</td>\n",
       "      <td>Condominium</td>\n",
       "      <td>99 Yrs From 22/03/1997</td>\n",
       "      <td>2004</td>\n",
       "      <td>Resale</td>\n",
       "      <td>575577</td>\n",
       "    </tr>\n",
       "    <tr>\n",
       "      <th>2012-05-08 00:00:00</th>\n",
       "      <td>SKY HABITAT</td>\n",
       "      <td>9 Bishan Street 15  #08-15</td>\n",
       "      <td>95</td>\n",
       "      <td>Strata</td>\n",
       "      <td>1555910</td>\n",
       "      <td>16378</td>\n",
       "      <td>1522</td>\n",
       "      <td>Condominium</td>\n",
       "      <td>99 Yrs From 30/05/2011</td>\n",
       "      <td>Uncompleted</td>\n",
       "      <td>New Sale</td>\n",
       "      <td>573909</td>\n",
       "    </tr>\n",
       "    <tr>\n",
       "      <th>2007-06-13 00:00:00</th>\n",
       "      <td>ADELPHI PARK ESTATE</td>\n",
       "      <td>17 Carnation Drive</td>\n",
       "      <td>450</td>\n",
       "      <td>Land</td>\n",
       "      <td>2950000</td>\n",
       "      <td>6551</td>\n",
       "      <td>609</td>\n",
       "      <td>Detached House</td>\n",
       "      <td>Freehold</td>\n",
       "      <td>1991</td>\n",
       "      <td>Resale</td>\n",
       "      <td>579545</td>\n",
       "    </tr>\n",
       "  </tbody>\n",
       "</table>\n",
       "</div>"
      ],
      "text/plain": [
       "                              Project Name                     Address  \\\n",
       "Sale Date                                                                \n",
       "2011-08-23 00:00:00          THOMSON GRAND    11 Sin Ming Walk  #05-01   \n",
       "2008-07-16 00:00:00     CLOVER BY THE PARK  6 Bishan Street 25  #37-14   \n",
       "2005-08-27 00:00:00  THE GARDENS AT BISHAN     7 Sin Ming Walk  #15-18   \n",
       "2012-05-08 00:00:00            SKY HABITAT  9 Bishan Street 15  #08-15   \n",
       "2007-06-13 00:00:00    ADELPHI PARK ESTATE          17 Carnation Drive   \n",
       "\n",
       "                     Area (sqm) Type of Area  Transacted Price ($)  \\\n",
       "Sale Date                                                            \n",
       "2011-08-23 00:00:00          88       Strata               1284408   \n",
       "2008-07-16 00:00:00         119       Strata               1091000   \n",
       "2005-08-27 00:00:00         112       Strata                636000   \n",
       "2012-05-08 00:00:00          95       Strata               1555910   \n",
       "2007-06-13 00:00:00         450         Land               2950000   \n",
       "\n",
       "                     Unit Price, psm  Unit Price, psf   Property Type  \\\n",
       "Sale Date                                                               \n",
       "2011-08-23 00:00:00            14596             1356     Condominium   \n",
       "2008-07-16 00:00:00             9168              852     Condominium   \n",
       "2005-08-27 00:00:00             5679              528     Condominium   \n",
       "2012-05-08 00:00:00            16378             1522     Condominium   \n",
       "2007-06-13 00:00:00             6551              609  Detached House   \n",
       "\n",
       "                                     Tenure Completion Date Type of Sale  \\\n",
       "Sale Date                                                                  \n",
       "2011-08-23 00:00:00  99 Yrs From 08/02/2010     Uncompleted     New Sale   \n",
       "2008-07-16 00:00:00  99 Yrs From 10/09/2007     Uncompleted     New Sale   \n",
       "2005-08-27 00:00:00  99 Yrs From 22/03/1997            2004       Resale   \n",
       "2012-05-08 00:00:00  99 Yrs From 30/05/2011     Uncompleted     New Sale   \n",
       "2007-06-13 00:00:00                Freehold            1991       Resale   \n",
       "\n",
       "                     Postal Code  \n",
       "Sale Date                         \n",
       "2011-08-23 00:00:00       575579  \n",
       "2008-07-16 00:00:00       573975  \n",
       "2005-08-27 00:00:00       575577  \n",
       "2012-05-08 00:00:00       573909  \n",
       "2007-06-13 00:00:00       579545  "
      ]
     },
     "execution_count": 3,
     "metadata": {},
     "output_type": "execute_result"
    }
   ],
   "source": [
    "out = train_raw.rename(index=str, columns={\"Unit Price ($ psm)\": \"Unit Price, psm\", \"Unit Price ($ psf)\": \"Unit Price, psf\"})\n",
    "out.head()"
   ]
  },
  {
   "cell_type": "code",
   "execution_count": 4,
   "metadata": {
    "collapsed": false
   },
   "outputs": [
    {
     "data": {
      "image/png": "[encoded data removed]",
      "text/plain": [
       "<matplotlib.figure.Figure at 0x7f3e31dac150>"
      ]
     },
     "metadata": {},
     "output_type": "display_data"
    }
   ],
   "source": [
    "target_name =  'Transacted Price ($)'\n",
    "cols_to_drop = ['Unit Price ($ psm)', 'Unit Price ($ psf)', 'Tenure', 'Completion Date']\n",
    "cols_to_encode = ['Project Name', 'Type of Area', 'Property Type', 'Type of Sale']\n",
    "cols_to_exclude = ['Address']\n",
    "\n",
    "# drop 'useless' columns\n",
    "train = train_raw.drop(cols_to_drop, axis=1)\n",
    "test = test_raw.drop(cols_to_drop, axis=1)\n",
    "\n",
    "# convert categorical data into numbers\n",
    "_all_encoders = np.ndarray(shape=(len(cols_to_encode),), dtype=object)\n",
    "for idx, column in enumerate(cols_to_encode):\n",
    "    le = LabelEncoder()\n",
    "    train[column] = le.fit_transform(train.loc[:, column].values)\n",
    "    test[column] = le.transform(test.loc[:, column].values)\n",
    "    _all_encoders[idx] = le\n",
    "\n",
    "# draw histograms - yaxis is a number of transactions for each bin\n",
    "axes = train[['Postal Code', 'Area (sqm)', 'Property Type']].hist(layout=(1,3),  figsize=(15,4))"
   ]
  },
  {
   "cell_type": "code",
   "execution_count": 5,
   "metadata": {
    "collapsed": false
   },
   "outputs": [
    {
     "data": {
      "text/plain": [
       "((3091, 6), (3091,), (370, 6), (370,))"
      ]
     },
     "execution_count": 5,
     "metadata": {},
     "output_type": "execute_result"
    }
   ],
   "source": [
    "cols_remain = [c for c in train.columns if c not in cols_to_exclude]\n",
    "train = train[cols_remain]\n",
    "test = test[cols_remain]\n",
    "\n",
    "# don't use outliers for training\n",
    "train = train[(train['Area (sqm)'].astype(int) < 500) & (train['Area (sqm)'].astype(int) > 0)]\n",
    "\n",
    "# remove outliers for testing for better visualization\n",
    "test = test[test[target_name].astype(int) < 1.5e7]\n",
    "\n",
    "# split X and y\n",
    "X_train = train.drop(target_name, axis=1).values\n",
    "y_train = train[target_name].values\n",
    "\n",
    "X_test = test.drop(target_name, axis=1).values\n",
    "y_test = test[target_name].values\n",
    "\n",
    "X_train.shape, y_train.shape, X_test.shape, y_test.shape"
   ]
  },
  {
   "cell_type": "markdown",
   "metadata": {},
   "source": [
    "Use the LinearRegression class from sklearn.linear_model to fit a linear model predicting price from the features, prepared above. "
   ]
  },
  {
   "cell_type": "code",
   "execution_count": 6,
   "metadata": {
    "collapsed": false
   },
   "outputs": [],
   "source": [
    "LR = LinearRegression().fit(X_train, y_train)"
   ]
  },
  {
   "cell_type": "markdown",
   "metadata": {},
   "source": [
    "Now we can measure the prediction accuracy on the training set first."
   ]
  },
  {
   "cell_type": "code",
   "execution_count": 7,
   "metadata": {
    "collapsed": false
   },
   "outputs": [
    {
     "name": "stdout",
     "output_type": "stream",
     "text": [
      "Mean absolute percentage train error: 30.24%\n"
     ]
    }
   ],
   "source": [
    "predicted = LR.predict(X_train)\n",
    "print 'Mean absolute percentage train error: {:0.2f}%'.format(np.mean(np.abs(y_train - predicted) / y_train) * 100)"
   ]
  },
  {
   "cell_type": "code",
   "execution_count": 8,
   "metadata": {
    "collapsed": false
   },
   "outputs": [
    {
     "data": {
      "text/plain": [
       "(Text(0,0.5,u'Transacted Price ($)'), Text(0.5,0,u'Area (sqm)'))"
      ]
     },
     "execution_count": 8,
     "metadata": {},
     "output_type": "execute_result"
    },
    {
     "data": {
      "image/png": "[encoded data removed]",
      "text/plain": [
       "<matplotlib.figure.Figure at 0x7f3e32d59f10>"
      ]
     },
     "metadata": {},
     "output_type": "display_data"
    }
   ],
   "source": [
    "trainingErrs = abs(LR.predict(X_train) - y_train)\n",
    "\n",
    "# draw outliers of train data prediction (with respect to Area), i.e. prediction error is large\n",
    "outlierIdx = trainingErrs >= np.percentile(trainingErrs, 90)\n",
    "plt.scatter(train['Area (sqm)'], y_train, c=(0,0,1), marker='s')\n",
    "plt.scatter(train['Area (sqm)'][outlierIdx], y_train[outlierIdx], c=(1,0,0), marker='s')\n",
    "plt.ylabel('Transacted Price ($)'), plt.xlabel('Area (sqm)')"
   ]
  },
  {
   "cell_type": "markdown",
   "metadata": {},
   "source": [
    "Same analysis of the prediction accuracy on the test set."
   ]
  },
  {
   "cell_type": "code",
   "execution_count": 9,
   "metadata": {
    "collapsed": false
   },
   "outputs": [
    {
     "name": "stdout",
     "output_type": "stream",
     "text": [
      "Mean absolute percentage test error: 29.96%\n"
     ]
    }
   ],
   "source": [
    "predicted = LR.predict(X_test)\n",
    "print 'Mean absolute percentage test error: {:0.2f}%'.format(np.mean(np.abs(y_test - predicted) / y_test) * 100)"
   ]
  },
  {
   "cell_type": "code",
   "execution_count": 10,
   "metadata": {
    "collapsed": false
   },
   "outputs": [
    {
     "data": {
      "text/plain": [
       "(array([ 165.,  101.,   47.,   25.,   11.,    7.,    4.,    2.,    2.,\n",
       "           1.,    1.,    1.,    1.,    0.,    0.,    0.,    1.,    0.,\n",
       "           0.,    1.]),\n",
       " array([  1.69546530e+03,   2.33003299e+05,   4.64311133e+05,\n",
       "          6.95618967e+05,   9.26926800e+05,   1.15823463e+06,\n",
       "          1.38954247e+06,   1.62085030e+06,   1.85215814e+06,\n",
       "          2.08346597e+06,   2.31477380e+06,   2.54608164e+06,\n",
       "          2.77738947e+06,   3.00869730e+06,   3.24000514e+06,\n",
       "          3.47131297e+06,   3.70262081e+06,   3.93392864e+06,\n",
       "          4.16523647e+06,   4.39654431e+06,   4.62785214e+06]),\n",
       " <a list of 20 Patch objects>)"
      ]
     },
     "execution_count": 10,
     "metadata": {},
     "output_type": "execute_result"
    },
    {
     "data": {
      "image/png": "[encoded data removed]",
      "text/plain": [
       "<matplotlib.figure.Figure at 0x7f3e321cf810>"
      ]
     },
     "metadata": {},
     "output_type": "display_data"
    }
   ],
   "source": [
    "errs = abs(LR.predict(X_test) - y_test)\n",
    "plt.hist(errs, bins=20)"
   ]
  },
  {
   "cell_type": "code",
   "execution_count": 11,
   "metadata": {
    "collapsed": false
   },
   "outputs": [
    {
     "data": {
      "text/plain": [
       "<matplotlib.legend.Legend at 0x7f3e3233a790>"
      ]
     },
     "execution_count": 11,
     "metadata": {},
     "output_type": "execute_result"
    },
    {
     "data": {
      "image/png": "[encoded data removed]",
      "text/plain": [
       "<matplotlib.figure.Figure at 0x7f3e321d9110>"
      ]
     },
     "metadata": {},
     "output_type": "display_data"
    }
   ],
   "source": [
    "outlierIdx = errs >= np.percentile(errs, 90)\n",
    "plt.figure(figsize=(15,7))\n",
    "p1 = plt.scatter(test['Area (sqm)'], y_test, c=(0,0,1), marker='s')\n",
    "p2 = plt.scatter(test['Area (sqm)'][outlierIdx], y_test[outlierIdx], c=(1,0,0), marker='s')\n",
    "p3 = plt.scatter(test['Area (sqm)'], predicted, color='black', linewidth=1, linestyle=':')\n",
    "plt.ylabel('Transacted Price ($)'), plt.xlabel('Area (sqm)')\n",
    "plt.legend([p1, p2, p3], ['Truth', 'Prediction Outliers', 'Prediction'])"
   ]
  },
  {
   "cell_type": "code",
   "execution_count": null,
   "metadata": {
    "collapsed": true
   },
   "outputs": [],
   "source": []
  }
 ],
 "metadata": {
  "kernelspec": {
   "display_name": "Python 2",
   "language": "python",
   "name": "python2"
  },
  "language_info": {
   "codemirror_mode": {
    "name": "ipython",
    "version": 2
   },
   "file_extension": ".py",
   "mimetype": "text/x-python",
   "name": "python",
   "nbconvert_exporter": "python",
   "pygments_lexer": "ipython2",
   "version": "2.7.9"
  }
 },
 "nbformat": 4,
 "nbformat_minor": 0
}
